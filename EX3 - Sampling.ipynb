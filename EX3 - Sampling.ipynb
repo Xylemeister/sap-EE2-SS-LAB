{
 "cells": [
  {
   "cell_type": "markdown",
   "id": "e2ef4e82",
   "metadata": {
    "deletable": false,
    "editable": false
   },
   "source": [
    "# Exercise 3 - Sampling\n",
    "\n",
    "## Objectives\n",
    "- To understand the effects of sampling in the time and frequency domains \n",
    "- To understand why sampling might cause aliasing\n",
    "- To introduce uniform quantization"
   ]
  },
  {
   "cell_type": "code",
   "execution_count": 1,
   "id": "42bb838e",
   "metadata": {},
   "outputs": [],
   "source": [
    "import os\n",
    "os.makedirs('results/ex3', exist_ok=True)"
   ]
  },
  {
   "cell_type": "markdown",
   "id": "242c9f06",
   "metadata": {
    "deletable": false,
    "editable": false
   },
   "source": [
    "## Lab Exercise\n",
    "Let us start by thinking about the sampling process in the time domain as shown in Fig. 3.1. It may be interpreted as the multiplication between a continuous-time domain signal $x(t)$ and a train of impulses $s(t)$.\n",
    "\n",
    "<img src=\"img/ex2_1.svg\" alt=\"drawing\" width=\"900\"/>\n",
    "<center>Figure 3.1: The sampling process of an continuous-time signal</center>\n",
    "\n",
    "Observe that $x_s(t) = x(t)\\times s(t) = \\sum_n x(nT)\\delta(t-nT),$ where $-\\infty < n < \\infty$ and $T=1/f_s$. This is still a continuous-time signal (variable $t$) which are zero-valued for $t \\neq nT$ and should not be confused with the discrete-time signal $x[n]$, which comprises the signal amplitudes at the sampling instances and only exists for $n=0,1,2,\\cdots$.\n",
    "\n",
    "Now think about $x(t)$ and $s(t)$ and their frequency domain representations which are shown in Fig. 3.2. \n",
    "\n",
    "<img src=\"img/ex2_2.svg\" alt=\"drawing\" width=\"900\"/>\n",
    "<center>Figure 3.2: Frequency domain representation of $x(t)$ and $s(t)$</center>\n",
    "\n",
    "\n",
    "You may recall that multiplication in the time domain is equivalent to convolution in the frequency domain. Therefore, the dual of $x_s(t) =x(t) \\times s(t)$ in the time domain is $X_s(j\\omega) = X(j\\omega) * S(j\\omega)$ in the frequency domain, where '$*$' denotes the linear convolution. \n",
    "\n",
    "Thus, $X_s(j\\omega)$ is a periodic function of frequency $\\omega$, consisting of the sum of shifted and scaled replicas of $X(j\\omega)$, shifted by integer multiples of $\\omega_s$ and scaled by $\\frac{1}{T}$. \n",
    "\n",
    "\n",
    "<img src=\"img/ex2_3.svg\" alt=\"drawing\" width=\"900\"/>\n",
    "<center>Figure 3.3: A sampled sine wave and its spectrum</center>\n",
    "\n",
    "### Sampling Theorem\n",
    "\n",
    "Sampling, therefore, has the effect of creating spectral images at each and every integer multiple of $\\omega_s$. Thus, to avoid corruption of information arising from overlapping spectral images (this distortion is called aliasing), the following condition must be met\n",
    "\n",
    "---\n",
    "**Definition**:\n",
    "$$|\\omega_m|  < \\frac{\\omega_s}{2} \\: \\text{(Nyquist frequency)}, \\quad \\text{where } \\omega_s  =2\\pi f_s =2\\pi/T_s \\quad \\implies \\quad |\\Omega|  < \\pi $$\n",
    "\n",
    "---\n",
    "\n",
    "The frequency $\\omega_s/2$ is called the Nyquist frequency. If $\\omega_m$ is the highest frequency component in the signal, then sampling at a rate (frequency) above twice the maximum signal frequency, $\\omega_s>|2\\omega_m|$, is called *oversampling*. Sampling at a rate below twice this signal frequency, $\\omega_s<|2\\omega_m|$, is called *undersampling*. Lastly, sampling at a rate exactly twice this maximum signal frequency, $\\omega_s=|2\\omega_m|$, is called *critical sampling*.\n",
    "\n",
    "To see aliasing in action, let us generate some more plots using `sinegen` function by setting $N=100$, $f_s=8000$ Hz and varying:\n",
    "\n",
    "$(\\text{i}) \\:  f=150$ Hz, $\\quad  (\\text{ii}) \\: f=300$ Hz, $\\quad (\\text{iii}) \\: f=600$ Hz \n",
    "\n",
    "$(\\text{iv}) \\:  f=7400$ Hz, $\\quad (\\text{v}) \\:  f=7700$ Hz $\\:$ and $\\: (\\text{vi}) \\:  f=7850$ Hz"
   ]
  },
  {
   "cell_type": "code",
   "execution_count": 25,
   "id": "30a4ee86",
   "metadata": {
    "deletable": false
   },
   "outputs": [
    {
     "data": {
      "image/png": "[encoded data removed]",
      "text/plain": [
       "<Figure size 432x288 with 1 Axes>"
      ]
     },
     "metadata": {
      "needs_background": "light"
     },
     "output_type": "display_data"
    }
   ],
   "source": [
    "import numpy as np\n",
    "import matplotlib.pyplot as plt\n",
    "\n",
    "from functions.lab_functions import sinegen, cosgen\n",
    "from functions.lab_functions import plot_signal\n",
    "\n",
    "fs = 8000\n",
    "fsig = 24600 # change the value of fsig for parts (i) to (vi)\n",
    "Nsamp = 100\n",
    "t, x = sinegen(fs, fsig, Nsamp)\n",
    "\n",
    "plt = plot_signal(t, x, title='Sine Wave ' + str(fsig) + 'Hz', xlabel='Time [s]', ylabel='Amplitude', func='stem')\n",
    "plt.savefig('results/ex3/ex3_sine_' + str(fsig) + '_hz.jpg')\n",
    "plt.show()"
   ]
  },
  {
   "cell_type": "markdown",
   "metadata": {},
   "source": [
    "![image](./results/ex3/ex3_sine_150_hz.jpg)\n",
    "![300](./results/ex3/ex3_sine_300_hz.jpg)\n",
    "![600](./results/ex3/ex3_sine_600_hz.jpg)\n",
    "![7400](./results/ex3/ex3_sine_7400_hz.jpg)\n",
    "![7700](./results/ex3/ex3_sine_7700_hz.jpg)\n",
    "![7850](./results/ex3/ex3_sine_7850_hz.jpg)"
   ]
  },
  {
   "cell_type": "markdown",
   "id": "0237441c",
   "metadata": {
    "deletable": false,
    "editable": false
   },
   "source": [
    "The plots created above (e.g. `ex3_sine_150_hz.pdf`) will have also been saved to the `/results/ex3/` folder so you now have a record of all the plots.\n",
    "\n",
    "**Question 3.1** Describe and discuss the results for (i)-(iii) and (iv)-(vi)."
   ]
  },
  {
   "cell_type": "markdown",
   "metadata": {},
   "source": [
    "The sampled signal looks similar to one another but with a phase change of $\\frac{\\pi}{2}$"
   ]
  },
  {
   "cell_type": "markdown",
   "id": "4575016b",
   "metadata": {
    "deletable": false,
    "editable": false
   },
   "source": [
    "**Question 3.2** Predict the results for frequencies $f=24150$ Hz, $\\: f=24300$ Hz and $\\: f=24600$ Hz and confirm your prediction with Python."
   ]
  },
  {
   "cell_type": "markdown",
   "metadata": {},
   "source": [
    "![24150](./results/ex3/ex3_sine_24150_hz.jpg)\n",
    "![24300](./results/ex3/ex3_sine_24300_hz.jpg)\n",
    "![24600](./results/ex3/ex3_sine_24600_hz.jpg)"
   ]
  },
  {
   "cell_type": "markdown",
   "id": "db5ae908",
   "metadata": {
    "deletable": false,
    "editable": false
   },
   "source": [
    "**Question 3.3** Consider $x(t)=\\cos(100\\pi t)$\n",
    "\n",
    "$\\quad$(a) Determine the minimum sampling rate to avoid aliasing\n",
    "1. 100\n",
    "\n",
    "$\\quad$(b) Write down an expression for $x[n]$ if a sampling frequency of 200 Hz is used.\n",
    "\n",
    "$\\quad$(c) Write down an expression for $x[n]$ if a sampling frequency of 75 Hz is used."
   ]
  },
  {
   "cell_type": "markdown",
   "id": "4f87dfa6",
   "metadata": {
    "deletable": false,
    "editable": false
   },
   "source": [
    "**Question 3.4** If the sampling frequency is 48 kHz, what is the normalised angular frequency of the discrete-time signal corresponding to a sinusoid at 1.2 kHz?"
   ]
  },
  {
   "cell_type": "markdown",
   "id": "7c97cae2",
   "metadata": {
    "deletable": false,
    "editable": false
   },
   "source": [
    "**Question 3.5** Given a signal with a normalised angular frequency of $\\frac{\\pi}{4}$, what is its frequency expressed in terms of the sampling frequency, $f_s$?\n"
   ]
  },
  {
   "cell_type": "markdown",
   "id": "fcf41448",
   "metadata": {
    "deletable": false,
    "editable": false
   },
   "source": [
    "### Uniform quantization change to Q\n",
    "\n",
    "Sampling is the process by which a continuous-*time* signal, $x(t)$,  becomes a discrete-*time* signal, $x[n]$. Quantization, on the other hand, is the process by which a signal with continuous amplitude is made to assume discrete amplitudes from a defined set of **quantization levels**.\n",
    "\n",
    "Let us consider a signal $x(t)$ with amplitudes contained in the range $\\pm A$. It is quantized using a simple uniform quantizer with $Q$ equally-spaced quantization levels such that the quantization step is $W=\\frac{2A}{Q-1}$. The quantized signal $x_q(t)$ is obtained by rounding the amplitude of $x(t)$ to the closest quantization level, or equivalently\n",
    "$$x_q(t)=W\\cdot \\text{round}\\big(\\frac{x(t)}{W}\\big)$$\n",
    "\n",
    "For example, for $A=10$ and $N=21$, the quantization step is $W=1$ and an amplitude of $x(\\tau)=9.2$ would lead to $x_q(\\tau)=9$.\n",
    "\n",
    "The quantization error is the difference between the original signal $x(t)$ and the quantized signal $x_q(t)$. \n",
    "\n",
    "<img src=\"img/ex3_quant.svg\" alt=\"drawing\" width=\"900\"/>\n",
    "<center>Figure 3.4: The sampling and quantization processes</center>"
   ]
  },
  {
   "cell_type": "markdown",
   "id": "077892f3",
   "metadata": {
    "deletable": false,
    "editable": false
   },
   "source": [
    "**Question 3.6** For the example above ($A=10$, $Q=21$, and $W=1$), give the maximum and minimum values that the quantization error can take."
   ]
  },
  {
   "cell_type": "markdown",
   "id": "c28e6bba",
   "metadata": {},
   "source": [
    "**Question 3.7** Implement the simple quantizer described above using your own `quantizer` function in the cell below. Plot a sine wave of amplitude $10$ quantized using $21$ levels."
   ]
  },
  {
   "cell_type": "code",
   "execution_count": 3,
   "id": "93167650",
   "metadata": {
    "deletable": false,
    "editable": false
   },
   "outputs": [],
   "source": [
    "def quantizer(x, dynrange, N):\n",
    "    # x is the signal to quantize\n",
    "    # dynrange is the as dynamic range of your quantizer expressed as a min and max value\n",
    "    # N is the number of quantization levels\n",
    "\n",
    "    # add your code here\n",
    "    \n",
    "    return y\n",
    "    "
   ]
  },
  {
   "cell_type": "code",
   "execution_count": 4,
   "id": "447c5212",
   "metadata": {},
   "outputs": [],
   "source": [
    "# plot a quantized sine wave here"
   ]
  },
  {
   "cell_type": "markdown",
   "id": "e70e6ece",
   "metadata": {},
   "source": [
    "**Question 3.8** Plot the quantization error for the sine wave in Question 3.7. Does your result match your answer to Question 3.6? What is the root mean square (RMS) error? Compare this to Exercise 8 of Problem Sheet 3."
   ]
  },
  {
   "cell_type": "code",
   "execution_count": 5,
   "id": "08306ccb",
   "metadata": {},
   "outputs": [],
   "source": [
    "# plot quantization error here"
   ]
  }
 ],
 "metadata": {
  "celltoolbar": "Edit Metadata",
  "colab": {
   "name": "SS_LAB.ipynb",
   "provenance": [],
   "toc_visible": true
  },
  "kernelspec": {
   "display_name": "Python 3 (ipykernel)",
   "language": "python",
   "name": "python3"
  },
  "language_info": {
   "codemirror_mode": {
    "name": "ipython",
    "version": 3
   },
   "file_extension": ".py",
   "mimetype": "text/x-python",
   "name": "python",
   "nbconvert_exporter": "python",
   "pygments_lexer": "ipython3",
   "version": "3.10.12"
  }
 },
 "nbformat": 4,
 "nbformat_minor": 5
}
